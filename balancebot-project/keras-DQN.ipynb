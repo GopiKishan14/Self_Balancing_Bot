{
 "cells": [
  {
   "cell_type": "code",
   "execution_count": 1,
   "metadata": {},
   "outputs": [
    {
     "name": "stderr",
     "output_type": "stream",
     "text": [
      "/home/gopi/anaconda3/lib/python3.6/site-packages/h5py/__init__.py:36: FutureWarning: Conversion of the second argument of issubdtype from `float` to `np.floating` is deprecated. In future, it will be treated as `np.float64 == np.dtype(float).type`.\n",
      "  from ._conv import register_converters as _register_converters\n",
      "Using TensorFlow backend.\n"
     ]
    }
   ],
   "source": [
    "import numpy as np\n",
    "import gym\n",
    "\n",
    "from keras.models import Sequential\n",
    "from keras.layers import Dense, Activation, Flatten\n",
    "from keras.optimizers import Adam\n",
    "\n",
    "from rl.agents.dqn import DQNAgent\n",
    "from rl.policy import BoltzmannQPolicy\n",
    "from rl.memory import SequentialMemory"
   ]
  },
  {
   "cell_type": "code",
   "execution_count": 2,
   "metadata": {},
   "outputs": [],
   "source": [
    "# importing our evnvironment from file\n",
    "import balance_bot"
   ]
  },
  {
   "cell_type": "code",
   "execution_count": 9,
   "metadata": {},
   "outputs": [],
   "source": [
    "env.close()"
   ]
  },
  {
   "cell_type": "code",
   "execution_count": 3,
   "metadata": {},
   "outputs": [
    {
     "name": "stdout",
     "output_type": "stream",
     "text": [
      "\u001b[33mWARN: gym.spaces.Box autodetected dtype as <class 'numpy.float32'>. Please provide explicit dtype.\u001b[0m\n",
      "\u001b[33mWARN: Environment '<class 'balance_bot.envs.balancebot_env.BalancebotEnv'>' has deprecated methods '_step' and '_reset' rather than 'step' and 'reset'. Compatibility code invoked. Set _gym_disable_underscore_compat = True to disable this behavior.\u001b[0m\n"
     ]
    }
   ],
   "source": [
    "ENV_NAME = 'balancebot-v0'\n",
    "\n",
    "\n",
    "# Get the environment and extract the number of actions.\n",
    "env = gym.make(ENV_NAME)\n",
    "np.random.seed(123)\n",
    "env.seed(123)\n",
    "nb_actions = env.action_space.n"
   ]
  },
  {
   "cell_type": "code",
   "execution_count": 4,
   "metadata": {},
   "outputs": [
    {
     "name": "stdout",
     "output_type": "stream",
     "text": [
      "_________________________________________________________________\n",
      "Layer (type)                 Output Shape              Param #   \n",
      "=================================================================\n",
      "flatten_1 (Flatten)          (None, 3)                 0         \n",
      "_________________________________________________________________\n",
      "dense_1 (Dense)              (None, 16)                64        \n",
      "_________________________________________________________________\n",
      "activation_1 (Activation)    (None, 16)                0         \n",
      "_________________________________________________________________\n",
      "dense_2 (Dense)              (None, 16)                272       \n",
      "_________________________________________________________________\n",
      "activation_2 (Activation)    (None, 16)                0         \n",
      "_________________________________________________________________\n",
      "dense_3 (Dense)              (None, 16)                272       \n",
      "_________________________________________________________________\n",
      "activation_3 (Activation)    (None, 16)                0         \n",
      "_________________________________________________________________\n",
      "dense_4 (Dense)              (None, 9)                 153       \n",
      "_________________________________________________________________\n",
      "activation_4 (Activation)    (None, 9)                 0         \n",
      "=================================================================\n",
      "Total params: 761\n",
      "Trainable params: 761\n",
      "Non-trainable params: 0\n",
      "_________________________________________________________________\n",
      "None\n"
     ]
    }
   ],
   "source": [
    "# Next, we build a very simple model.\n",
    "model = Sequential()\n",
    "model.add(Flatten(input_shape=(1,) + env.observation_space.shape))\n",
    "model.add(Dense(16))\n",
    "model.add(Activation('relu'))\n",
    "model.add(Dense(16))\n",
    "model.add(Activation('relu'))\n",
    "model.add(Dense(16))\n",
    "model.add(Activation('relu'))\n",
    "model.add(Dense(nb_actions))\n",
    "model.add(Activation('linear'))\n",
    "print(model.summary())"
   ]
  },
  {
   "cell_type": "code",
   "execution_count": 5,
   "metadata": {},
   "outputs": [],
   "source": [
    "# Finally, we configure and compile our agent. You can use every built-in Keras optimizer and\n",
    "# even the metrics!\n",
    "memory = SequentialMemory(limit=50000, window_length=1)\n",
    "policy = BoltzmannQPolicy()\n",
    "dqn = DQNAgent(model=model, nb_actions=nb_actions, memory=memory, nb_steps_warmup=10,\n",
    "               target_model_update=1e-2, policy=policy)\n",
    "dqn.compile(Adam(lr=1e-3), metrics=['mae'])"
   ]
  },
  {
   "cell_type": "code",
   "execution_count": 69,
   "metadata": {},
   "outputs": [
    {
     "name": "stdout",
     "output_type": "stream",
     "text": [
      "Training for 20000 steps ...\n",
      "   130/20000: episode: 1, duration: 1.781s, episode steps: 130, steps per second: 73, episode reward: 4.521, mean reward: 0.035 [-0.153, 0.100], mean action: 4.354 [0.000, 8.000], mean observation: 0.193 [-4.781, 11.950], loss: 0.070520, mean_absolute_error: 12.357471, mean_q: 14.170400\n",
      "   213/20000: episode: 2, duration: 1.262s, episode steps: 83, steps per second: 66, episode reward: 2.661, mean reward: 0.032 [-0.059, 0.093], mean action: 4.120 [0.000, 8.000], mean observation: -0.838 [-5.866, 4.670], loss: 0.090053, mean_absolute_error: 12.267007, mean_q: 14.045307\n",
      "   351/20000: episode: 3, duration: 1.942s, episode steps: 138, steps per second: 71, episode reward: 3.037, mean reward: 0.022 [-0.156, 0.098], mean action: 3.616 [0.000, 8.000], mean observation: -0.330 [-14.230, 4.857], loss: 0.078964, mean_absolute_error: 12.291951, mean_q: 14.091850\n",
      "   527/20000: episode: 4, duration: 2.384s, episode steps: 176, steps per second: 74, episode reward: -4.330, mean reward: -0.025 [-0.275, 0.098], mean action: 3.295 [0.000, 8.000], mean observation: -2.118 [-26.700, 4.910], loss: 0.107664, mean_absolute_error: 12.241894, mean_q: 14.026175\n",
      "   654/20000: episode: 5, duration: 1.799s, episode steps: 127, steps per second: 71, episode reward: -2.858, mean reward: -0.023 [-0.186, 0.100], mean action: 4.591 [0.000, 8.000], mean observation: 1.609 [-5.283, 17.870], loss: 0.097034, mean_absolute_error: 12.202761, mean_q: 14.020362\n",
      "   732/20000: episode: 6, duration: 1.201s, episode steps: 78, steps per second: 65, episode reward: 2.467, mean reward: 0.032 [-0.065, 0.098], mean action: 4.282 [0.000, 8.000], mean observation: -0.693 [-5.721, 4.180], loss: 0.097640, mean_absolute_error: 12.239698, mean_q: 14.057561\n",
      "   852/20000: episode: 7, duration: 1.757s, episode steps: 120, steps per second: 68, episode reward: 0.971, mean reward: 0.008 [-0.140, 0.095], mean action: 4.392 [0.000, 8.000], mean observation: 0.913 [-5.336, 13.390], loss: 0.088827, mean_absolute_error: 12.175074, mean_q: 13.978197\n",
      "   984/20000: episode: 8, duration: 1.850s, episode steps: 132, steps per second: 71, episode reward: -0.488, mean reward: -0.004 [-0.174, 0.097], mean action: 4.500 [0.000, 8.000], mean observation: 1.346 [-5.377, 16.730], loss: 0.084525, mean_absolute_error: 12.212461, mean_q: 14.035665\n",
      "  1085/20000: episode: 9, duration: 1.484s, episode steps: 101, steps per second: 68, episode reward: 0.678, mean reward: 0.007 [-0.141, 0.100], mean action: 4.436 [0.000, 8.000], mean observation: 0.391 [-4.955, 11.860], loss: 0.085768, mean_absolute_error: 12.002071, mean_q: 13.801719\n",
      "  1217/20000: episode: 10, duration: 2.423s, episode steps: 132, steps per second: 54, episode reward: 7.115, mean reward: 0.054 [-0.065, 0.097], mean action: 4.136 [0.000, 8.000], mean observation: -0.319 [-5.840, 5.250], loss: 0.063165, mean_absolute_error: 12.267204, mean_q: 14.071319\n",
      "  1280/20000: episode: 11, duration: 1.083s, episode steps: 63, steps per second: 58, episode reward: 1.878, mean reward: 0.030 [-0.043, 0.100], mean action: 4.175 [0.000, 8.000], mean observation: 1.445 [-1.840, 5.840], loss: 0.091295, mean_absolute_error: 12.177360, mean_q: 13.945228\n",
      "  1455/20000: episode: 12, duration: 2.365s, episode steps: 175, steps per second: 74, episode reward: 3.740, mean reward: 0.021 [-0.157, 0.100], mean action: 4.383 [0.000, 8.000], mean observation: 0.796 [-5.689, 15.580], loss: 0.067345, mean_absolute_error: 12.194918, mean_q: 13.937413\n",
      "  1546/20000: episode: 13, duration: 1.334s, episode steps: 91, steps per second: 68, episode reward: -0.293, mean reward: -0.003 [-0.152, 0.099], mean action: 4.582 [0.000, 8.000], mean observation: 0.281 [-5.020, 11.860], loss: 0.087085, mean_absolute_error: 12.038539, mean_q: 13.798232\n",
      "  1647/20000: episode: 14, duration: 1.479s, episode steps: 101, steps per second: 68, episode reward: 2.203, mean reward: 0.022 [-0.123, 0.099], mean action: 3.446 [0.000, 8.000], mean observation: -0.087 [-10.650, 4.947], loss: 0.080160, mean_absolute_error: 11.807951, mean_q: 13.539433\n",
      "  1767/20000: episode: 15, duration: 1.736s, episode steps: 120, steps per second: 69, episode reward: 6.825, mean reward: 0.057 [-0.043, 0.099], mean action: 4.175 [0.000, 8.000], mean observation: -0.363 [-5.729, 4.550], loss: 0.059439, mean_absolute_error: 11.917910, mean_q: 13.621307\n",
      "  1886/20000: episode: 16, duration: 1.710s, episode steps: 119, steps per second: 70, episode reward: -3.961, mean reward: -0.033 [-0.277, 0.100], mean action: 3.109 [0.000, 8.000], mean observation: -1.719 [-24.310, 3.949], loss: 0.086689, mean_absolute_error: 11.867356, mean_q: 13.613151\n",
      "  2042/20000: episode: 17, duration: 2.190s, episode steps: 156, steps per second: 71, episode reward: 6.350, mean reward: 0.041 [-0.134, 0.095], mean action: 4.231 [0.000, 8.000], mean observation: 0.526 [-4.851, 9.740], loss: 0.071871, mean_absolute_error: 11.879671, mean_q: 13.609835\n",
      "  2120/20000: episode: 18, duration: 1.218s, episode steps: 78, steps per second: 64, episode reward: -0.177, mean reward: -0.002 [-0.094, 0.100], mean action: 3.795 [0.000, 8.000], mean observation: 0.141 [-11.500, 5.941], loss: 0.089464, mean_absolute_error: 11.796724, mean_q: 13.512505\n",
      "  2300/20000: episode: 19, duration: 2.503s, episode steps: 180, steps per second: 72, episode reward: -10.573, mean reward: -0.059 [-0.189, 0.094], mean action: 3.500 [0.000, 8.000], mean observation: -3.411 [-23.270, 5.744], loss: 0.087936, mean_absolute_error: 11.856169, mean_q: 13.591794\n",
      "  2464/20000: episode: 20, duration: 2.322s, episode steps: 164, steps per second: 71, episode reward: 5.296, mean reward: 0.032 [-0.086, 0.095], mean action: 3.835 [0.000, 8.000], mean observation: 0.562 [-5.670, 7.510], loss: 0.081022, mean_absolute_error: 11.946033, mean_q: 13.714259\n",
      "  2662/20000: episode: 21, duration: 2.813s, episode steps: 198, steps per second: 70, episode reward: 5.467, mean reward: 0.028 [-0.054, 0.100], mean action: 4.020 [0.000, 8.000], mean observation: -1.261 [-9.630, 5.460], loss: 0.097663, mean_absolute_error: 11.853970, mean_q: 13.600406\n",
      "  2737/20000: episode: 22, duration: 1.136s, episode steps: 75, steps per second: 66, episode reward: 1.210, mean reward: 0.016 [-0.084, 0.100], mean action: 3.720 [0.000, 8.000], mean observation: 0.663 [-7.520, 4.957], loss: 0.084743, mean_absolute_error: 12.127677, mean_q: 13.892233\n",
      "  2827/20000: episode: 23, duration: 1.374s, episode steps: 90, steps per second: 66, episode reward: 1.537, mean reward: 0.017 [-0.097, 0.100], mean action: 3.667 [0.000, 8.000], mean observation: 0.007 [-8.010, 5.427], loss: 0.099702, mean_absolute_error: 11.742765, mean_q: 13.447103\n",
      "  2907/20000: episode: 24, duration: 1.263s, episode steps: 80, steps per second: 63, episode reward: 1.663, mean reward: 0.021 [-0.079, 0.095], mean action: 4.287 [0.000, 8.000], mean observation: -0.485 [-6.480, 6.660], loss: 0.060000, mean_absolute_error: 11.867059, mean_q: 13.582685\n",
      "  2997/20000: episode: 25, duration: 1.418s, episode steps: 90, steps per second: 63, episode reward: 4.422, mean reward: 0.049 [-0.053, 0.100], mean action: 4.233 [0.000, 8.000], mean observation: -0.453 [-5.955, 4.280], loss: 0.061398, mean_absolute_error: 11.932112, mean_q: 13.640748\n",
      "  3193/20000: episode: 26, duration: 2.612s, episode steps: 196, steps per second: 75, episode reward: 5.035, mean reward: 0.026 [-0.055, 0.099], mean action: 3.985 [0.000, 8.000], mean observation: -1.486 [-11.080, 4.080], loss: 0.077961, mean_absolute_error: 11.769030, mean_q: 13.497933\n",
      "  3344/20000: episode: 27, duration: 2.148s, episode steps: 151, steps per second: 70, episode reward: 8.913, mean reward: 0.059 [-0.080, 0.098], mean action: 3.980 [0.000, 8.000], mean observation: -0.057 [-6.795, 4.330], loss: 0.078146, mean_absolute_error: 11.796330, mean_q: 13.503309\n",
      "  3634/20000: episode: 28, duration: 4.049s, episode steps: 290, steps per second: 72, episode reward: -16.392, mean reward: -0.057 [-0.269, 0.098], mean action: 3.590 [0.000, 8.000], mean observation: -4.257 [-28.420, 4.590], loss: 0.072408, mean_absolute_error: 11.874963, mean_q: 13.605526\n",
      "  3759/20000: episode: 29, duration: 1.764s, episode steps: 125, steps per second: 71, episode reward: 0.425, mean reward: 0.003 [-0.164, 0.100], mean action: 3.408 [0.000, 8.000], mean observation: -0.777 [-16.930, 5.210], loss: 0.088228, mean_absolute_error: 11.882851, mean_q: 13.627193\n"
     ]
    },
    {
     "name": "stdout",
     "output_type": "stream",
     "text": [
      "  3846/20000: episode: 30, duration: 1.336s, episode steps: 87, steps per second: 65, episode reward: -0.402, mean reward: -0.005 [-0.149, 0.091], mean action: 3.506 [0.000, 8.000], mean observation: -0.249 [-12.930, 4.920], loss: 0.084048, mean_absolute_error: 11.788267, mean_q: 13.484810\n",
      "  3968/20000: episode: 31, duration: 1.752s, episode steps: 122, steps per second: 70, episode reward: 5.857, mean reward: 0.048 [-0.093, 0.099], mean action: 4.270 [0.000, 8.000], mean observation: 0.022 [-5.659, 6.220], loss: 0.070025, mean_absolute_error: 12.004807, mean_q: 13.732387\n",
      "  4103/20000: episode: 32, duration: 2.033s, episode steps: 135, steps per second: 66, episode reward: 6.885, mean reward: 0.051 [-0.092, 0.099], mean action: 4.148 [0.000, 8.000], mean observation: -0.043 [-5.409, 6.680], loss: 0.070174, mean_absolute_error: 11.906301, mean_q: 13.610381\n",
      "  4193/20000: episode: 33, duration: 1.387s, episode steps: 90, steps per second: 65, episode reward: 3.044, mean reward: 0.034 [-0.055, 0.098], mean action: 4.000 [0.000, 8.000], mean observation: 0.468 [-6.820, 5.280], loss: 0.061329, mean_absolute_error: 11.899892, mean_q: 13.608762\n",
      "  4392/20000: episode: 34, duration: 2.743s, episode steps: 199, steps per second: 73, episode reward: -12.337, mean reward: -0.062 [-0.372, 0.100], mean action: 3.266 [0.000, 8.000], mean observation: -3.506 [-35.910, 4.200], loss: 0.076443, mean_absolute_error: 11.855846, mean_q: 13.538189\n",
      "  4491/20000: episode: 35, duration: 1.506s, episode steps: 99, steps per second: 66, episode reward: -1.505, mean reward: -0.015 [-0.189, 0.090], mean action: 3.232 [0.000, 8.000], mean observation: -1.060 [-15.910, 4.517], loss: 0.078901, mean_absolute_error: 11.639699, mean_q: 13.351349\n",
      "  4738/20000: episode: 36, duration: 3.244s, episode steps: 247, steps per second: 76, episode reward: -21.941, mean reward: -0.089 [-0.284, 0.100], mean action: 4.247 [0.000, 8.000], mean observation: 4.964 [-3.610, 37.460], loss: 0.085645, mean_absolute_error: 11.674017, mean_q: 13.386511\n",
      "  4871/20000: episode: 37, duration: 1.832s, episode steps: 133, steps per second: 73, episode reward: -12.461, mean reward: -0.094 [-0.307, 0.099], mean action: 3.090 [0.000, 8.000], mean observation: -3.495 [-30.060, 5.380], loss: 0.073800, mean_absolute_error: 11.933730, mean_q: 13.695389\n",
      "  4983/20000: episode: 38, duration: 1.601s, episode steps: 112, steps per second: 70, episode reward: 1.629, mean reward: 0.015 [-0.125, 0.099], mean action: 3.616 [0.000, 8.000], mean observation: -0.476 [-10.980, 5.303], loss: 0.065691, mean_absolute_error: 11.745519, mean_q: 13.485559\n",
      "  5154/20000: episode: 39, duration: 2.310s, episode steps: 171, steps per second: 74, episode reward: 5.085, mean reward: 0.030 [-0.169, 0.099], mean action: 4.409 [0.000, 8.000], mean observation: 0.809 [-4.798, 13.540], loss: 0.127010, mean_absolute_error: 11.838555, mean_q: 13.607321\n",
      "  5299/20000: episode: 40, duration: 1.970s, episode steps: 145, steps per second: 74, episode reward: -1.112, mean reward: -0.008 [-0.190, 0.091], mean action: 4.455 [0.000, 8.000], mean observation: 1.620 [-5.404, 18.430], loss: 0.095309, mean_absolute_error: 11.880160, mean_q: 13.637576\n",
      "  5422/20000: episode: 41, duration: 2.365s, episode steps: 123, steps per second: 52, episode reward: 0.159, mean reward: 0.001 [-0.199, 0.100], mean action: 3.593 [0.000, 8.000], mean observation: -0.800 [-18.350, 4.207], loss: 0.168677, mean_absolute_error: 11.762354, mean_q: 13.521386\n",
      "  5501/20000: episode: 42, duration: 1.240s, episode steps: 79, steps per second: 64, episode reward: 3.730, mean reward: 0.047 [-0.046, 0.099], mean action: 4.076 [0.000, 8.000], mean observation: -0.935 [-5.846, 1.900], loss: 0.134727, mean_absolute_error: 11.846103, mean_q: 13.638039\n",
      "  5579/20000: episode: 43, duration: 1.201s, episode steps: 78, steps per second: 65, episode reward: 2.560, mean reward: 0.033 [-0.062, 0.095], mean action: 3.949 [0.000, 8.000], mean observation: 0.820 [-4.300, 5.420], loss: 0.070402, mean_absolute_error: 11.659017, mean_q: 13.397730\n",
      "  5676/20000: episode: 44, duration: 1.464s, episode steps: 97, steps per second: 66, episode reward: 1.216, mean reward: 0.013 [-0.119, 0.100], mean action: 3.753 [0.000, 8.000], mean observation: -0.258 [-10.690, 5.158], loss: 0.075971, mean_absolute_error: 11.938540, mean_q: 13.742494\n",
      "  5780/20000: episode: 45, duration: 1.599s, episode steps: 104, steps per second: 65, episode reward: -1.335, mean reward: -0.013 [-0.180, 0.100], mean action: 3.394 [0.000, 8.000], mean observation: -0.969 [-17.410, 5.106], loss: 0.060426, mean_absolute_error: 11.688361, mean_q: 13.462190\n",
      "  5897/20000: episode: 46, duration: 1.793s, episode steps: 117, steps per second: 65, episode reward: 0.392, mean reward: 0.003 [-0.173, 0.096], mean action: 4.427 [0.000, 8.000], mean observation: 0.878 [-4.882, 15.220], loss: 0.063644, mean_absolute_error: 11.774672, mean_q: 13.565701\n",
      "  5983/20000: episode: 47, duration: 1.302s, episode steps: 86, steps per second: 66, episode reward: -0.245, mean reward: -0.003 [-0.136, 0.090], mean action: 3.523 [0.000, 8.000], mean observation: -0.283 [-11.020, 5.043], loss: 0.068047, mean_absolute_error: 11.932678, mean_q: 13.762747\n",
      "  6221/20000: episode: 48, duration: 3.161s, episode steps: 238, steps per second: 75, episode reward: 1.872, mean reward: 0.008 [-0.182, 0.099], mean action: 3.744 [0.000, 8.000], mean observation: 1.000 [-17.010, 14.280], loss: 0.072386, mean_absolute_error: 12.000960, mean_q: 13.858275\n",
      "  6381/20000: episode: 49, duration: 2.203s, episode steps: 160, steps per second: 73, episode reward: 0.619, mean reward: 0.004 [-0.153, 0.100], mean action: 3.694 [0.000, 8.000], mean observation: 0.510 [-13.460, 14.030], loss: 0.077095, mean_absolute_error: 12.051262, mean_q: 13.962137\n",
      "  6510/20000: episode: 50, duration: 1.845s, episode steps: 129, steps per second: 70, episode reward: -12.741, mean reward: -0.099 [-0.365, 0.095], mean action: 2.876 [0.000, 8.000], mean observation: -3.572 [-33.950, 5.020], loss: 0.079624, mean_absolute_error: 12.201497, mean_q: 14.160764\n",
      "  6830/20000: episode: 51, duration: 4.230s, episode steps: 320, steps per second: 76, episode reward: -56.134, mean reward: -0.175 [-0.419, 0.100], mean action: 3.375 [0.000, 8.000], mean observation: -7.371 [-41.410, 5.988], loss: 0.087471, mean_absolute_error: 12.380638, mean_q: 14.390697\n",
      "  6901/20000: episode: 52, duration: 1.086s, episode steps: 71, steps per second: 65, episode reward: 2.380, mean reward: 0.034 [-0.051, 0.090], mean action: 3.958 [0.000, 8.000], mean observation: 1.051 [-3.230, 5.824], loss: 0.102242, mean_absolute_error: 12.337747, mean_q: 14.377548\n",
      "  6966/20000: episode: 53, duration: 1.095s, episode steps: 65, steps per second: 59, episode reward: 2.148, mean reward: 0.033 [-0.042, 0.100], mean action: 3.908 [0.000, 8.000], mean observation: 1.435 [-1.180, 5.210], loss: 0.112622, mean_absolute_error: 12.902020, mean_q: 15.017573\n",
      "  7036/20000: episode: 54, duration: 1.152s, episode steps: 70, steps per second: 61, episode reward: 2.451, mean reward: 0.035 [-0.043, 0.100], mean action: 4.171 [0.000, 8.000], mean observation: 1.273 [-2.440, 5.930], loss: 0.108003, mean_absolute_error: 12.905708, mean_q: 14.980584\n",
      "  7097/20000: episode: 55, duration: 1.031s, episode steps: 61, steps per second: 59, episode reward: 1.088, mean reward: 0.018 [-0.043, 0.090], mean action: 3.967 [0.000, 8.000], mean observation: 1.495 [-3.780, 8.010], loss: 0.107329, mean_absolute_error: 13.042404, mean_q: 15.154311\n",
      "  7184/20000: episode: 56, duration: 1.381s, episode steps: 87, steps per second: 63, episode reward: 1.970, mean reward: 0.023 [-0.088, 0.100], mean action: 3.759 [0.000, 8.000], mean observation: 0.336 [-8.800, 5.493], loss: 0.104078, mean_absolute_error: 12.985008, mean_q: 15.069178\n",
      "  7308/20000: episode: 57, duration: 1.764s, episode steps: 124, steps per second: 70, episode reward: -6.921, mean reward: -0.056 [-0.303, 0.098], mean action: 3.056 [0.000, 8.000], mean observation: -2.504 [-29.700, 3.400], loss: 0.091650, mean_absolute_error: 12.931921, mean_q: 15.012725\n",
      "  7416/20000: episode: 58, duration: 2.031s, episode steps: 108, steps per second: 53, episode reward: 0.872, mean reward: 0.008 [-0.136, 0.098], mean action: 3.509 [0.000, 8.000], mean observation: -0.393 [-12.390, 5.113], loss: 0.109000, mean_absolute_error: 13.227801, mean_q: 15.376915\n"
     ]
    },
    {
     "name": "stdout",
     "output_type": "stream",
     "text": [
      "  7508/20000: episode: 59, duration: 1.481s, episode steps: 92, steps per second: 62, episode reward: -1.905, mean reward: -0.021 [-0.165, 0.090], mean action: 3.315 [0.000, 8.000], mean observation: -0.822 [-14.960, 5.198], loss: 0.133133, mean_absolute_error: 13.394708, mean_q: 15.536340\n",
      "  7626/20000: episode: 60, duration: 1.752s, episode steps: 118, steps per second: 67, episode reward: -4.995, mean reward: -0.042 [-0.274, 0.095], mean action: 3.051 [0.000, 8.000], mean observation: -1.983 [-23.720, 4.115], loss: 0.109172, mean_absolute_error: 13.319695, mean_q: 15.432909\n",
      "  7821/20000: episode: 61, duration: 2.731s, episode steps: 195, steps per second: 71, episode reward: 1.749, mean reward: 0.009 [-0.233, 0.100], mean action: 4.472 [0.000, 8.000], mean observation: 1.538 [-4.407, 19.860], loss: 0.144706, mean_absolute_error: 13.443761, mean_q: 15.588103\n",
      "  7896/20000: episode: 62, duration: 1.185s, episode steps: 75, steps per second: 63, episode reward: -1.229, mean reward: -0.016 [-0.110, 0.090], mean action: 3.507 [0.000, 8.000], mean observation: -0.104 [-11.990, 6.200], loss: 0.135926, mean_absolute_error: 13.356934, mean_q: 15.439054\n",
      "  8057/20000: episode: 63, duration: 2.344s, episode steps: 161, steps per second: 69, episode reward: -2.440, mean reward: -0.015 [-0.241, 0.098], mean action: 4.634 [0.000, 8.000], mean observation: 1.978 [-4.499, 21.010], loss: 0.126188, mean_absolute_error: 13.483319, mean_q: 15.587704\n",
      "  8176/20000: episode: 64, duration: 1.668s, episode steps: 119, steps per second: 71, episode reward: 4.020, mean reward: 0.034 [-0.108, 0.100], mean action: 4.286 [0.000, 8.000], mean observation: 0.046 [-5.221, 7.850], loss: 0.109063, mean_absolute_error: 13.670033, mean_q: 15.763536\n",
      "  8319/20000: episode: 65, duration: 2.013s, episode steps: 143, steps per second: 71, episode reward: -8.523, mean reward: -0.060 [-0.351, 0.090], mean action: 2.972 [0.000, 8.000], mean observation: -2.913 [-31.650, 3.957], loss: 0.102169, mean_absolute_error: 13.513012, mean_q: 15.565228\n",
      "  8416/20000: episode: 66, duration: 1.533s, episode steps: 97, steps per second: 63, episode reward: -0.321, mean reward: -0.003 [-0.153, 0.099], mean action: 3.557 [0.000, 8.000], mean observation: -0.446 [-15.190, 5.046], loss: 0.112267, mean_absolute_error: 13.749981, mean_q: 15.860189\n",
      "  8538/20000: episode: 67, duration: 1.809s, episode steps: 122, steps per second: 67, episode reward: 4.563, mean reward: 0.037 [-0.132, 0.099], mean action: 3.615 [0.000, 8.000], mean observation: 0.061 [-10.230, 4.686], loss: 0.121843, mean_absolute_error: 13.614662, mean_q: 15.705715\n",
      "  8673/20000: episode: 68, duration: 1.925s, episode steps: 135, steps per second: 70, episode reward: -12.636, mean reward: -0.094 [-0.314, 0.094], mean action: 3.015 [0.000, 8.000], mean observation: -3.504 [-30.290, 5.220], loss: 0.100734, mean_absolute_error: 13.542735, mean_q: 15.593282\n",
      "  8734/20000: episode: 69, duration: 1.008s, episode steps: 61, steps per second: 61, episode reward: 1.697, mean reward: 0.028 [-0.040, 0.090], mean action: 4.148 [0.000, 8.000], mean observation: 1.811 [0.003, 6.840], loss: 0.098191, mean_absolute_error: 13.815201, mean_q: 15.860677\n",
      "  8841/20000: episode: 70, duration: 1.636s, episode steps: 107, steps per second: 65, episode reward: 5.576, mean reward: 0.052 [-0.053, 0.098], mean action: 4.150 [0.000, 8.000], mean observation: -0.703 [-5.864, 2.610], loss: 0.121845, mean_absolute_error: 13.867123, mean_q: 15.943834\n",
      "  8973/20000: episode: 71, duration: 1.883s, episode steps: 132, steps per second: 70, episode reward: 2.301, mean reward: 0.017 [-0.139, 0.100], mean action: 4.364 [0.000, 8.000], mean observation: 0.683 [-5.342, 14.640], loss: 0.131817, mean_absolute_error: 13.651001, mean_q: 15.704594\n",
      "  9065/20000: episode: 72, duration: 1.479s, episode steps: 92, steps per second: 62, episode reward: 1.116, mean reward: 0.012 [-0.121, 0.100], mean action: 3.630 [0.000, 8.000], mean observation: 0.079 [-10.320, 6.020], loss: 0.094097, mean_absolute_error: 13.550612, mean_q: 15.536804\n",
      "  9143/20000: episode: 73, duration: 1.233s, episode steps: 78, steps per second: 63, episode reward: 0.570, mean reward: 0.007 [-0.087, 0.098], mean action: 4.244 [0.000, 8.000], mean observation: -0.483 [-6.430, 8.210], loss: 0.081685, mean_absolute_error: 13.644614, mean_q: 15.671147\n",
      "  9236/20000: episode: 74, duration: 1.436s, episode steps: 93, steps per second: 65, episode reward: 3.421, mean reward: 0.037 [-0.064, 0.095], mean action: 4.054 [0.000, 8.000], mean observation: -0.254 [-6.254, 7.160], loss: 0.115431, mean_absolute_error: 13.687222, mean_q: 15.743466\n",
      "  9378/20000: episode: 75, duration: 2.529s, episode steps: 142, steps per second: 56, episode reward: -4.121, mean reward: -0.029 [-0.291, 0.100], mean action: 3.169 [0.000, 8.000], mean observation: -1.674 [-26.560, 5.580], loss: 0.089450, mean_absolute_error: 13.267687, mean_q: 15.224417\n",
      "  9509/20000: episode: 76, duration: 2.048s, episode steps: 131, steps per second: 64, episode reward: -5.272, mean reward: -0.040 [-0.251, 0.100], mean action: 4.718 [0.000, 8.000], mean observation: 2.107 [-4.846, 23.220], loss: 0.105005, mean_absolute_error: 13.514385, mean_q: 15.508001\n",
      "  9651/20000: episode: 77, duration: 2.094s, episode steps: 142, steps per second: 68, episode reward: 5.627, mean reward: 0.040 [-0.122, 0.100], mean action: 4.246 [0.000, 8.000], mean observation: 0.368 [-5.183, 12.070], loss: 0.085325, mean_absolute_error: 13.420389, mean_q: 15.408471\n",
      "  9737/20000: episode: 78, duration: 1.352s, episode steps: 86, steps per second: 64, episode reward: 2.586, mean reward: 0.030 [-0.050, 0.100], mean action: 4.058 [0.000, 8.000], mean observation: -0.569 [-6.020, 7.140], loss: 0.100490, mean_absolute_error: 13.379967, mean_q: 15.373245\n",
      "  9804/20000: episode: 79, duration: 1.065s, episode steps: 67, steps per second: 63, episode reward: 1.963, mean reward: 0.029 [-0.046, 0.095], mean action: 3.970 [0.000, 8.000], mean observation: 1.316 [-2.810, 5.791], loss: 0.131094, mean_absolute_error: 13.233755, mean_q: 15.249892\n",
      "  9984/20000: episode: 80, duration: 2.515s, episode steps: 180, steps per second: 72, episode reward: 3.242, mean reward: 0.018 [-0.129, 0.100], mean action: 3.761 [0.000, 8.000], mean observation: 0.700 [-10.800, 8.480], loss: 0.091807, mean_absolute_error: 13.209188, mean_q: 15.129830\n",
      " 10062/20000: episode: 81, duration: 1.231s, episode steps: 78, steps per second: 63, episode reward: 2.144, mean reward: 0.027 [-0.064, 0.098], mean action: 3.936 [0.000, 8.000], mean observation: 0.672 [-5.100, 5.544], loss: 0.096169, mean_absolute_error: 13.401314, mean_q: 15.395398\n",
      " 10152/20000: episode: 82, duration: 1.368s, episode steps: 90, steps per second: 66, episode reward: -0.404, mean reward: -0.004 [-0.169, 0.100], mean action: 4.711 [0.000, 8.000], mean observation: 0.422 [-4.645, 13.380], loss: 0.089666, mean_absolute_error: 13.277632, mean_q: 15.236372\n",
      " 10266/20000: episode: 83, duration: 1.668s, episode steps: 114, steps per second: 68, episode reward: 5.544, mean reward: 0.049 [-0.082, 0.099], mean action: 3.798 [0.000, 8.000], mean observation: 0.397 [-5.720, 5.353], loss: 0.090967, mean_absolute_error: 13.216486, mean_q: 15.187393\n",
      " 10410/20000: episode: 84, duration: 2.012s, episode steps: 144, steps per second: 72, episode reward: 0.868, mean reward: 0.006 [-0.206, 0.100], mean action: 3.507 [0.000, 8.000], mean observation: -0.687 [-16.910, 5.430], loss: 0.127252, mean_absolute_error: 13.170734, mean_q: 15.171916\n",
      " 10477/20000: episode: 85, duration: 1.050s, episode steps: 67, steps per second: 64, episode reward: 0.595, mean reward: 0.009 [-0.090, 0.100], mean action: 4.403 [0.000, 8.000], mean observation: -0.805 [-5.300, 6.720], loss: 0.113641, mean_absolute_error: 13.069758, mean_q: 15.027451\n",
      " 10685/20000: episode: 86, duration: 2.894s, episode steps: 208, steps per second: 72, episode reward: -41.615, mean reward: -0.200 [-0.491, 0.100], mean action: 4.942 [0.000, 8.000], mean observation: 7.227 [-4.145, 50.610], loss: 0.096255, mean_absolute_error: 13.239345, mean_q: 15.233190\n",
      " 10782/20000: episode: 87, duration: 1.435s, episode steps: 97, steps per second: 68, episode reward: 2.086, mean reward: 0.022 [-0.113, 0.097], mean action: 3.598 [0.000, 8.000], mean observation: 0.091 [-9.740, 5.300], loss: 0.097060, mean_absolute_error: 13.272902, mean_q: 15.283254\n"
     ]
    },
    {
     "name": "stdout",
     "output_type": "stream",
     "text": [
      " 10902/20000: episode: 88, duration: 1.685s, episode steps: 120, steps per second: 71, episode reward: 1.219, mean reward: 0.010 [-0.158, 0.100], mean action: 3.517 [0.000, 8.000], mean observation: -0.248 [-14.140, 5.690], loss: 0.076722, mean_absolute_error: 13.215894, mean_q: 15.224345\n",
      " 11005/20000: episode: 89, duration: 1.494s, episode steps: 103, steps per second: 69, episode reward: -1.678, mean reward: -0.016 [-0.180, 0.099], mean action: 3.359 [0.000, 8.000], mean observation: -1.038 [-17.680, 4.336], loss: 0.104927, mean_absolute_error: 13.370761, mean_q: 15.398659\n",
      " 11156/20000: episode: 90, duration: 2.078s, episode steps: 151, steps per second: 73, episode reward: 6.203, mean reward: 0.041 [-0.117, 0.100], mean action: 4.245 [0.000, 8.000], mean observation: 0.108 [-5.077, 11.420], loss: 0.101644, mean_absolute_error: 13.391790, mean_q: 15.417027\n",
      " 11228/20000: episode: 91, duration: 1.153s, episode steps: 72, steps per second: 62, episode reward: 1.594, mean reward: 0.022 [-0.087, 0.097], mean action: 3.681 [0.000, 8.000], mean observation: 1.015 [-5.010, 6.590], loss: 0.062387, mean_absolute_error: 13.568235, mean_q: 15.656989\n",
      " 11302/20000: episode: 92, duration: 1.188s, episode steps: 74, steps per second: 62, episode reward: 0.858, mean reward: 0.012 [-0.085, 0.100], mean action: 4.216 [0.000, 8.000], mean observation: -0.501 [-5.767, 7.240], loss: 0.070429, mean_absolute_error: 13.575117, mean_q: 15.593029\n",
      " 11397/20000: episode: 93, duration: 1.447s, episode steps: 95, steps per second: 66, episode reward: -0.230, mean reward: -0.002 [-0.179, 0.096], mean action: 3.232 [0.000, 8.000], mean observation: -0.497 [-14.560, 3.934], loss: 0.063948, mean_absolute_error: 13.375829, mean_q: 15.368201\n",
      " 11515/20000: episode: 94, duration: 1.653s, episode steps: 118, steps per second: 71, episode reward: 2.803, mean reward: 0.024 [-0.116, 0.095], mean action: 3.585 [0.000, 8.000], mean observation: 0.222 [-10.690, 4.804], loss: 0.080562, mean_absolute_error: 13.396854, mean_q: 15.411848\n",
      " 11762/20000: episode: 95, duration: 3.430s, episode steps: 247, steps per second: 72, episode reward: -51.375, mean reward: -0.208 [-0.509, 0.100], mean action: 4.992 [0.000, 8.000], mean observation: 8.613 [-2.310, 57.890], loss: 0.065383, mean_absolute_error: 13.384062, mean_q: 15.368520\n",
      " 11911/20000: episode: 96, duration: 2.214s, episode steps: 149, steps per second: 67, episode reward: 6.388, mean reward: 0.043 [-0.148, 0.100], mean action: 3.711 [0.000, 8.000], mean observation: -0.108 [-11.490, 4.840], loss: 0.075109, mean_absolute_error: 13.285585, mean_q: 15.270802\n",
      " 12001/20000: episode: 97, duration: 1.402s, episode steps: 90, steps per second: 64, episode reward: -0.038, mean reward: -0.000 [-0.154, 0.090], mean action: 3.433 [0.000, 8.000], mean observation: -0.435 [-13.210, 4.534], loss: 0.130953, mean_absolute_error: 13.089677, mean_q: 15.053082\n",
      " 12095/20000: episode: 98, duration: 1.498s, episode steps: 94, steps per second: 63, episode reward: 1.108, mean reward: 0.012 [-0.123, 0.100], mean action: 3.521 [0.000, 8.000], mean observation: -0.055 [-10.880, 5.290], loss: 0.099481, mean_absolute_error: 13.363831, mean_q: 15.339597\n",
      " 12205/20000: episode: 99, duration: 1.810s, episode steps: 110, steps per second: 61, episode reward: 5.001, mean reward: 0.045 [-0.064, 0.100], mean action: 3.955 [0.000, 8.000], mean observation: 0.147 [-6.140, 6.126], loss: 0.075956, mean_absolute_error: 13.300543, mean_q: 15.331335\n",
      " 12283/20000: episode: 100, duration: 1.316s, episode steps: 78, steps per second: 59, episode reward: 0.542, mean reward: 0.007 [-0.090, 0.100], mean action: 3.692 [0.000, 8.000], mean observation: 0.463 [-9.160, 6.130], loss: 0.064804, mean_absolute_error: 13.290320, mean_q: 15.293426\n",
      " 12446/20000: episode: 101, duration: 2.318s, episode steps: 163, steps per second: 70, episode reward: 4.390, mean reward: 0.027 [-0.169, 0.100], mean action: 3.650 [0.000, 8.000], mean observation: -0.713 [-16.140, 5.046], loss: 0.081888, mean_absolute_error: 13.312073, mean_q: 15.285603\n",
      " 12534/20000: episode: 102, duration: 1.383s, episode steps: 88, steps per second: 64, episode reward: -0.211, mean reward: -0.002 [-0.149, 0.100], mean action: 3.455 [0.000, 8.000], mean observation: -0.246 [-12.510, 4.663], loss: 0.049758, mean_absolute_error: 13.403153, mean_q: 15.390228\n",
      " 12621/20000: episode: 103, duration: 1.284s, episode steps: 87, steps per second: 68, episode reward: 1.459, mean reward: 0.017 [-0.094, 0.100], mean action: 3.690 [0.000, 8.000], mean observation: 0.057 [-7.190, 6.180], loss: 0.084559, mean_absolute_error: 12.903859, mean_q: 14.883926\n",
      " 12716/20000: episode: 104, duration: 1.397s, episode steps: 95, steps per second: 68, episode reward: -0.738, mean reward: -0.008 [-0.177, 0.098], mean action: 3.537 [0.000, 8.000], mean observation: -0.632 [-15.720, 4.247], loss: 0.061259, mean_absolute_error: 13.211832, mean_q: 15.193309\n",
      " 12863/20000: episode: 105, duration: 2.101s, episode steps: 147, steps per second: 70, episode reward: -7.773, mean reward: -0.053 [-0.303, 0.100], mean action: 4.857 [0.000, 8.000], mean observation: 2.690 [-3.737, 29.500], loss: 0.071360, mean_absolute_error: 13.102039, mean_q: 15.077341\n",
      " 12971/20000: episode: 106, duration: 1.632s, episode steps: 108, steps per second: 66, episode reward: 2.571, mean reward: 0.024 [-0.143, 0.100], mean action: 3.556 [0.000, 8.000], mean observation: 0.119 [-10.590, 4.556], loss: 0.092656, mean_absolute_error: 13.150817, mean_q: 15.150446\n",
      " 13092/20000: episode: 107, duration: 1.882s, episode steps: 121, steps per second: 64, episode reward: 6.431, mean reward: 0.053 [-0.046, 0.098], mean action: 3.975 [0.000, 8.000], mean observation: 0.214 [-5.860, 6.847], loss: 0.066378, mean_absolute_error: 12.870124, mean_q: 14.826515\n",
      " 13246/20000: episode: 108, duration: 2.252s, episode steps: 154, steps per second: 68, episode reward: -14.593, mean reward: -0.095 [-0.396, 0.100], mean action: 5.156 [0.000, 8.000], mean observation: 3.863 [-3.659, 36.220], loss: 0.181333, mean_absolute_error: 13.082752, mean_q: 15.067890\n",
      " 13311/20000: episode: 109, duration: 1.071s, episode steps: 65, steps per second: 61, episode reward: 1.840, mean reward: 0.028 [-0.082, 0.100], mean action: 4.462 [0.000, 8.000], mean observation: 1.901 [-0.000, 6.370], loss: 0.110359, mean_absolute_error: 12.591557, mean_q: 14.486942\n",
      " 13390/20000: episode: 110, duration: 1.554s, episode steps: 79, steps per second: 51, episode reward: 2.553, mean reward: 0.032 [-0.077, 0.094], mean action: 4.190 [0.000, 8.000], mean observation: -0.663 [-5.257, 5.310], loss: 0.106777, mean_absolute_error: 13.036955, mean_q: 14.989001\n",
      " 13557/20000: episode: 111, duration: 2.535s, episode steps: 167, steps per second: 66, episode reward: 1.180, mean reward: 0.007 [-0.071, 0.098], mean action: 4.054 [0.000, 8.000], mean observation: 2.164 [-2.530, 14.080], loss: 0.086260, mean_absolute_error: 12.929197, mean_q: 14.881172\n",
      " 13647/20000: episode: 112, duration: 1.417s, episode steps: 90, steps per second: 64, episode reward: 1.696, mean reward: 0.019 [-0.139, 0.100], mean action: 3.378 [0.000, 8.000], mean observation: 0.036 [-10.530, 4.375], loss: 0.091844, mean_absolute_error: 12.967928, mean_q: 14.948155\n",
      " 13823/20000: episode: 113, duration: 2.405s, episode steps: 176, steps per second: 73, episode reward: 7.875, mean reward: 0.045 [-0.096, 0.094], mean action: 3.824 [0.000, 8.000], mean observation: 0.524 [-6.540, 5.270], loss: 0.088793, mean_absolute_error: 12.791940, mean_q: 14.754318\n",
      " 13937/20000: episode: 114, duration: 1.595s, episode steps: 114, steps per second: 71, episode reward: 5.668, mean reward: 0.050 [-0.038, 0.098], mean action: 3.956 [0.000, 8.000], mean observation: 0.959 [-3.000, 6.360], loss: 0.117765, mean_absolute_error: 12.971865, mean_q: 14.997983\n",
      " 14038/20000: episode: 115, duration: 1.448s, episode steps: 101, steps per second: 70, episode reward: 3.162, mean reward: 0.031 [-0.116, 0.099], mean action: 3.762 [0.000, 8.000], mean observation: 0.242 [-8.340, 4.614], loss: 0.098217, mean_absolute_error: 12.937216, mean_q: 14.956752\n",
      " 14139/20000: episode: 116, duration: 1.453s, episode steps: 101, steps per second: 69, episode reward: -0.072, mean reward: -0.001 [-0.160, 0.090], mean action: 3.356 [0.000, 8.000], mean observation: -0.670 [-14.150, 5.058], loss: 0.110950, mean_absolute_error: 12.989693, mean_q: 14.998241\n"
     ]
    },
    {
     "name": "stdout",
     "output_type": "stream",
     "text": [
      " 14256/20000: episode: 117, duration: 1.744s, episode steps: 117, steps per second: 67, episode reward: 1.402, mean reward: 0.012 [-0.146, 0.098], mean action: 4.308 [0.000, 8.000], mean observation: 0.834 [-5.017, 13.790], loss: 0.152751, mean_absolute_error: 12.993554, mean_q: 15.059550\n",
      " 14383/20000: episode: 118, duration: 1.765s, episode steps: 127, steps per second: 72, episode reward: 7.484, mean reward: 0.059 [-0.052, 0.098], mean action: 4.008 [0.000, 8.000], mean observation: 0.863 [-1.900, 5.930], loss: 0.150656, mean_absolute_error: 13.120815, mean_q: 15.199865\n",
      " 14537/20000: episode: 119, duration: 2.182s, episode steps: 154, steps per second: 71, episode reward: 1.924, mean reward: 0.012 [-0.167, 0.100], mean action: 4.338 [0.000, 8.000], mean observation: 1.108 [-5.432, 16.900], loss: 0.124025, mean_absolute_error: 12.879298, mean_q: 14.932262\n",
      " 14646/20000: episode: 120, duration: 1.583s, episode steps: 109, steps per second: 69, episode reward: -0.745, mean reward: -0.007 [-0.161, 0.100], mean action: 3.486 [0.000, 8.000], mean observation: -0.823 [-15.340, 4.540], loss: 0.127925, mean_absolute_error: 13.232741, mean_q: 15.343777\n",
      " 14810/20000: episode: 121, duration: 2.317s, episode steps: 164, steps per second: 71, episode reward: -12.858, mean reward: -0.078 [-0.376, 0.090], mean action: 3.006 [0.000, 8.000], mean observation: -3.629 [-34.890, 3.599], loss: 0.123820, mean_absolute_error: 13.381154, mean_q: 15.519281\n",
      " 15018/20000: episode: 122, duration: 2.849s, episode steps: 208, steps per second: 73, episode reward: -19.528, mean reward: -0.094 [-0.213, 0.100], mean action: 3.692 [0.000, 8.000], mean observation: -4.974 [-29.680, 4.770], loss: 0.156381, mean_absolute_error: 13.223638, mean_q: 15.385500\n",
      " 15172/20000: episode: 123, duration: 2.282s, episode steps: 154, steps per second: 67, episode reward: 5.524, mean reward: 0.036 [-0.072, 0.090], mean action: 3.974 [0.000, 8.000], mean observation: 0.921 [-5.320, 9.780], loss: 0.186764, mean_absolute_error: 13.698898, mean_q: 15.985579\n",
      " 15907/20000: episode: 124, duration: 9.846s, episode steps: 735, steps per second: 75, episode reward: -95.055, mean reward: -0.129 [-0.319, 0.100], mean action: 3.784 [0.000, 8.000], mean observation: -6.993 [-37.880, 3.420], loss: 0.181142, mean_absolute_error: 14.220004, mean_q: 16.569496\n",
      " 16212/20000: episode: 125, duration: 3.991s, episode steps: 305, steps per second: 76, episode reward: -57.344, mean reward: -0.188 [-0.320, 0.097], mean action: 3.587 [0.000, 8.000], mean observation: -8.189 [-40.210, 6.220], loss: 0.221845, mean_absolute_error: 14.744864, mean_q: 17.155760\n",
      " 16428/20000: episode: 126, duration: 2.934s, episode steps: 216, steps per second: 74, episode reward: -43.576, mean reward: -0.202 [-0.484, 0.090], mean action: 3.097 [0.000, 8.000], mean observation: -7.454 [-46.110, 4.879], loss: 0.216176, mean_absolute_error: 15.227654, mean_q: 17.699389\n",
      " 16615/20000: episode: 127, duration: 2.568s, episode steps: 187, steps per second: 73, episode reward: -30.065, mean reward: -0.161 [-0.415, 0.097], mean action: 2.989 [0.000, 8.000], mean observation: -5.986 [-40.370, 5.790], loss: 0.163053, mean_absolute_error: 15.493953, mean_q: 18.021065\n",
      " 16882/20000: episode: 128, duration: 3.548s, episode steps: 267, steps per second: 75, episode reward: -60.877, mean reward: -0.228 [-0.555, 0.100], mean action: 3.165 [0.000, 8.000], mean observation: -8.622 [-52.870, 5.720], loss: 0.205790, mean_absolute_error: 15.743716, mean_q: 18.362061\n",
      " 17126/20000: episode: 129, duration: 3.416s, episode steps: 244, steps per second: 71, episode reward: -56.330, mean reward: -0.231 [-0.635, 0.100], mean action: 2.885 [0.000, 8.000], mean observation: -8.444 [-60.430, 6.530], loss: 0.207785, mean_absolute_error: 16.130060, mean_q: 18.859648\n",
      " 17329/20000: episode: 130, duration: 2.899s, episode steps: 203, steps per second: 70, episode reward: -16.270, mean reward: -0.080 [-0.336, 0.097], mean action: 3.369 [0.000, 8.000], mean observation: -3.322 [-32.940, 9.550], loss: 0.249228, mean_absolute_error: 16.520607, mean_q: 19.369095\n",
      " 17581/20000: episode: 131, duration: 3.890s, episode steps: 252, steps per second: 65, episode reward: -53.525, mean reward: -0.212 [-0.432, 0.100], mean action: 3.290 [0.000, 8.000], mean observation: -8.644 [-47.650, 6.690], loss: 0.253090, mean_absolute_error: 17.388327, mean_q: 20.475399\n",
      " 17685/20000: episode: 132, duration: 2.041s, episode steps: 104, steps per second: 51, episode reward: -8.174, mean reward: -0.079 [-0.222, 0.097], mean action: 3.298 [0.000, 8.000], mean observation: -2.462 [-21.900, 6.610], loss: 0.253963, mean_absolute_error: 18.037926, mean_q: 21.247334\n",
      " 17791/20000: episode: 133, duration: 1.570s, episode steps: 106, steps per second: 68, episode reward: -7.020, mean reward: -0.066 [-0.219, 0.098], mean action: 3.170 [0.000, 8.000], mean observation: -2.259 [-20.720, 6.080], loss: 0.222420, mean_absolute_error: 18.532017, mean_q: 21.848011\n",
      " 17902/20000: episode: 134, duration: 1.662s, episode steps: 111, steps per second: 67, episode reward: -8.344, mean reward: -0.075 [-0.247, 0.100], mean action: 3.162 [0.000, 8.000], mean observation: -2.532 [-22.390, 6.090], loss: 0.271220, mean_absolute_error: 18.762188, mean_q: 22.074116\n",
      " 18054/20000: episode: 135, duration: 1.999s, episode steps: 152, steps per second: 76, episode reward: -22.307, mean reward: -0.147 [-0.440, 0.100], mean action: 2.789 [0.000, 8.000], mean observation: -5.138 [-42.650, 6.810], loss: 0.293197, mean_absolute_error: 19.441078, mean_q: 22.893803\n",
      " 18150/20000: episode: 136, duration: 1.434s, episode steps: 96, steps per second: 67, episode reward: -2.257, mean reward: -0.024 [-0.178, 0.098], mean action: 3.323 [0.000, 8.000], mean observation: -0.960 [-17.720, 5.493], loss: 0.277773, mean_absolute_error: 19.549278, mean_q: 22.903946\n",
      " 18275/20000: episode: 137, duration: 1.882s, episode steps: 125, steps per second: 66, episode reward: -7.373, mean reward: -0.059 [-0.284, 0.100], mean action: 3.200 [0.000, 8.000], mean observation: -2.607 [-24.690, 4.587], loss: 0.264029, mean_absolute_error: 19.903763, mean_q: 23.272562\n",
      " 18423/20000: episode: 138, duration: 2.183s, episode steps: 148, steps per second: 68, episode reward: -11.554, mean reward: -0.078 [-0.320, 0.098], mean action: 3.122 [0.000, 8.000], mean observation: -3.281 [-29.710, 5.180], loss: 0.295346, mean_absolute_error: 20.019495, mean_q: 23.390051\n",
      " 18558/20000: episode: 139, duration: 1.927s, episode steps: 135, steps per second: 70, episode reward: -5.006, mean reward: -0.037 [-0.269, 0.100], mean action: 3.044 [0.000, 8.000], mean observation: -2.033 [-23.950, 4.468], loss: 0.283622, mean_absolute_error: 20.575594, mean_q: 23.941040\n",
      " 18763/20000: episode: 140, duration: 2.942s, episode steps: 205, steps per second: 70, episode reward: -34.186, mean reward: -0.167 [-0.534, 0.090], mean action: 3.029 [0.000, 8.000], mean observation: -6.450 [-52.090, 3.742], loss: 0.310706, mean_absolute_error: 20.433632, mean_q: 23.740246\n",
      " 18959/20000: episode: 141, duration: 2.903s, episode steps: 196, steps per second: 68, episode reward: -19.657, mean reward: -0.100 [-0.329, 0.099], mean action: 3.423 [0.000, 8.000], mean observation: -4.367 [-34.060, 5.978], loss: 0.265430, mean_absolute_error: 20.467113, mean_q: 23.740568\n",
      " 19260/20000: episode: 142, duration: 4.084s, episode steps: 301, steps per second: 74, episode reward: -28.330, mean reward: -0.094 [-0.328, 0.100], mean action: 3.957 [0.000, 8.000], mean observation: -4.852 [-40.690, 5.910], loss: 0.252965, mean_absolute_error: 20.625475, mean_q: 23.832735\n",
      " 19433/20000: episode: 143, duration: 2.437s, episode steps: 173, steps per second: 71, episode reward: 4.271, mean reward: 0.025 [-0.242, 0.100], mean action: 3.457 [0.000, 8.000], mean observation: -0.972 [-21.070, 4.459], loss: 0.305128, mean_absolute_error: 20.311819, mean_q: 23.467154\n",
      " 19527/20000: episode: 144, duration: 1.477s, episode steps: 94, steps per second: 64, episode reward: 0.660, mean reward: 0.007 [-0.150, 0.100], mean action: 3.404 [0.000, 8.000], mean observation: -0.126 [-12.610, 4.626], loss: 0.215275, mean_absolute_error: 20.389534, mean_q: 23.534576\n"
     ]
    },
    {
     "name": "stdout",
     "output_type": "stream",
     "text": [
      " 19726/20000: episode: 145, duration: 3.103s, episode steps: 199, steps per second: 64, episode reward: 6.570, mean reward: 0.033 [-0.114, 0.098], mean action: 4.126 [0.000, 8.000], mean observation: 1.030 [-6.218, 10.950], loss: 0.266119, mean_absolute_error: 20.520422, mean_q: 23.672594\n",
      " 19872/20000: episode: 146, duration: 2.235s, episode steps: 146, steps per second: 65, episode reward: 6.152, mean reward: 0.042 [-0.127, 0.100], mean action: 4.315 [0.000, 8.000], mean observation: 0.417 [-5.295, 9.090], loss: 0.262292, mean_absolute_error: 20.484308, mean_q: 23.605713\n",
      "done, took 292.503 seconds\n"
     ]
    },
    {
     "data": {
      "text/plain": [
       "<keras.callbacks.History at 0x7ff5336a03c8>"
      ]
     },
     "execution_count": 69,
     "metadata": {},
     "output_type": "execute_result"
    }
   ],
   "source": [
    "# Okay, now it's time to learn something! We visualize the training here for show, but this\n",
    "# slows down training quite a lot. You can always safely abort the training prematurely using\n",
    "# Ctrl + C.\n",
    "dqn.fit(env, nb_steps=20000, visualize=True, verbose=2)"
   ]
  },
  {
   "cell_type": "code",
   "execution_count": 72,
   "metadata": {},
   "outputs": [],
   "source": [
    "# After training is done, we save the final weights.\n",
    "dqn.save_weights('dqn_{}_weights_solved{}.h5f'.format(ENV_NAME , 'stable3.0_stand'), overwrite=True)"
   ]
  },
  {
   "cell_type": "code",
   "execution_count": 71,
   "metadata": {
    "scrolled": true
   },
   "outputs": [
    {
     "name": "stdout",
     "output_type": "stream",
     "text": [
      "Testing for 1 episodes ...\n",
      "Episode 1: reward: 142.531, steps: 1501\n",
      "Testing for 1 episodes ...\n",
      "Episode 1: reward: 142.531, steps: 1501\n",
      "Testing for 1 episodes ...\n",
      "Episode 1: reward: 142.531, steps: 1501\n",
      "Testing for 1 episodes ...\n",
      "Episode 1: reward: 142.531, steps: 1501\n",
      "Testing for 1 episodes ...\n",
      "Episode 1: reward: 142.531, steps: 1501\n"
     ]
    }
   ],
   "source": [
    "# Finally, evaluate our algorithm for 5 episodes.\n",
    "for _ in range(5):\n",
    "#     env.reset()\n",
    "#     env.step(env.action_space.sample())\n",
    "    dqn.test(env, nb_episodes=1, visualize=True)"
   ]
  },
  {
   "cell_type": "code",
   "execution_count": 15,
   "metadata": {},
   "outputs": [],
   "source": [
    "dqn.load_weights('dqn_balancebot-v0_weights_solvedstrict_stand.h5f')\n"
   ]
  },
  {
   "cell_type": "code",
   "execution_count": 17,
   "metadata": {},
   "outputs": [
    {
     "name": "stdout",
     "output_type": "stream",
     "text": [
      "Testing for 50 episodes ...\n",
      "Episode 1: reward: 122.032, steps: 1468\n",
      "Episode 2: reward: 37.233, steps: 585\n",
      "Episode 3: reward: 17.122, steps: 380\n",
      "Episode 4: reward: 65.013, steps: 1501\n",
      "Episode 5: reward: 138.638, steps: 1501\n",
      "Episode 6: reward: 92.211, steps: 1252\n",
      "Episode 7: reward: 59.160, steps: 1501\n",
      "Episode 8: reward: 138.638, steps: 1501\n",
      "Episode 9: reward: 138.638, steps: 1501\n",
      "Episode 10: reward: 11.861, steps: 341\n",
      "Episode 11: reward: 11.847, steps: 328\n",
      "Episode 12: reward: 117.908, steps: 1501\n",
      "Episode 13: reward: 138.638, steps: 1501\n",
      "Episode 14: reward: 55.559, steps: 777\n",
      "Episode 15: reward: 135.988, steps: 1501\n",
      "Episode 16: reward: 74.967, steps: 1501\n",
      "Episode 17: reward: 126.629, steps: 1501\n",
      "Episode 18: reward: 31.878, steps: 403\n",
      "Episode 19: reward: 22.361, steps: 293\n",
      "Episode 20: reward: 35.948, steps: 511\n",
      "Episode 21: reward: 17.270, steps: 347\n",
      "Episode 22: reward: 109.424, steps: 1501\n",
      "Episode 23: reward: 89.016, steps: 1128\n",
      "Episode 24: reward: 74.347, steps: 1501\n",
      "Episode 25: reward: 80.455, steps: 1501\n",
      "Episode 26: reward: 135.768, steps: 1501\n",
      "Episode 27: reward: 99.446, steps: 1296\n",
      "Episode 28: reward: 45.897, steps: 709\n",
      "Episode 29: reward: 8.049, steps: 294\n",
      "Episode 30: reward: 34.120, steps: 1443\n",
      "Episode 31: reward: 21.590, steps: 330\n",
      "Episode 32: reward: 9.451, steps: 1501\n",
      "Episode 33: reward: 104.535, steps: 1305\n",
      "Episode 34: reward: 53.442, steps: 829\n",
      "Episode 35: reward: 2.666, steps: 400\n",
      "Episode 36: reward: 19.416, steps: 337\n",
      "Episode 37: reward: 39.504, steps: 477\n",
      "Episode 38: reward: 34.331, steps: 516\n",
      "Episode 39: reward: 13.959, steps: 311\n",
      "Episode 40: reward: 131.437, steps: 1501\n",
      "Episode 41: reward: 108.049, steps: 1501\n",
      "Episode 42: reward: 49.803, steps: 667\n",
      "Episode 43: reward: 78.217, steps: 1292\n",
      "Episode 44: reward: 44.293, steps: 1501\n",
      "Episode 45: reward: 66.745, steps: 952\n",
      "Episode 46: reward: 34.418, steps: 1501\n",
      "Episode 47: reward: 136.112, steps: 1501\n",
      "Episode 48: reward: 50.505, steps: 1501\n",
      "Episode 49: reward: 118.413, steps: 1429\n",
      "Episode 50: reward: 9.068, steps: 275\n"
     ]
    },
    {
     "data": {
      "text/plain": [
       "<keras.callbacks.History at 0x7f53a1e87780>"
      ]
     },
     "execution_count": 17,
     "metadata": {},
     "output_type": "execute_result"
    }
   ],
   "source": [
    "dqn.test(env, nb_episodes=50, visualize=True)"
   ]
  },
  {
   "cell_type": "code",
   "execution_count": null,
   "metadata": {},
   "outputs": [],
   "source": []
  },
  {
   "cell_type": "code",
   "execution_count": null,
   "metadata": {},
   "outputs": [],
   "source": []
  }
 ],
 "metadata": {
  "kernelspec": {
   "display_name": "Python 3",
   "language": "python",
   "name": "python3"
  },
  "language_info": {
   "codemirror_mode": {
    "name": "ipython",
    "version": 3
   },
   "file_extension": ".py",
   "mimetype": "text/x-python",
   "name": "python",
   "nbconvert_exporter": "python",
   "pygments_lexer": "ipython3",
   "version": "3.6.4"
  }
 },
 "nbformat": 4,
 "nbformat_minor": 2
}
